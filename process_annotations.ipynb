{
 "cells": [
  {
   "cell_type": "code",
   "execution_count": null,
   "metadata": {},
   "outputs": [],
   "source": [
    "import pandas as pd\n",
    "import numpy as np"
   ]
  },
  {
   "cell_type": "code",
   "execution_count": null,
   "metadata": {},
   "outputs": [],
   "source": [
    "original_odir_df = pd.read_excel('ODIR-5K_Training_Annotations(Updated)_V2.xlsx')\n",
    "\n",
    "possible_diseases_dic = {'normal fundus': 'N', 'proliferative': 'D', 'glaucoma': 'G', 'cataract': 'C', \n",
    "                         'age-related macular degeneration': 'A', 'hypertensive': 'H', 'myopia': 'M'}\n",
    "\n",
    "odir_table_df = pd.DataFrame(columns=['img_name', 'N', 'D', 'G', 'C', 'A', 'H', 'M', 'O'])\n",
    "\n",
    "for row in range(len(original_odir_df)):\n",
    "    odir_table_df.loc[2*row, :] = np.array([original_odir_df.loc[row, 'Left-Fundus'], 0, 0, 0, 0, 0, 0, 0, 0])\n",
    "    left_eye_diseases_list = original_odir_df.loc[row, 'Left-Diagnostic Keywords'].split('，')\n",
    "    non_other_counter = 0\n",
    "    for enfermedad in left_eye_diseases_list:\n",
    "        for key in possible_diseases_dic:\n",
    "            if (key in enfermedad):\n",
    "                odir_table_df.loc[2*row, possible_diseases_dic[key]] = 1\n",
    "                non_other_counter += 1\n",
    "                break\n",
    "    if (non_other_counter != len(left_eye_diseases_list)):\n",
    "        odir_table_df.loc[2*row, 'O'] = 1\n",
    "                \n",
    "    odir_table_df.loc[2*row+1, :] = np.array([original_odir_df.loc[row, 'Right-Fundus'], 0, 0, 0, 0, 0, 0, 0, 0])\n",
    "    right_eye_diseases_list = original_odir_df.loc[row, 'Right-Diagnostic Keywords'].split('，')\n",
    "    non_other_counter = 0\n",
    "    for enfermedad in right_eye_diseases_list:\n",
    "        for key in possible_diseases_dic:\n",
    "            if (key in enfermedad):\n",
    "                odir_table_df.loc[2*row+1, possible_diseases_dic[key]] = 1\n",
    "                non_other_counter += 1\n",
    "                break\n",
    "    if (non_other_counter != len(right_eye_diseases_list)):\n",
    "        odir_table_df.loc[2*row+1, 'O'] = 1\n",
    "\n",
    "odir_table_df.to_csv('odir_table.csv')\n",
    "odir_table_df"
   ]
  },
  {
   "cell_type": "code",
   "execution_count": null,
   "metadata": {},
   "outputs": [],
   "source": [
    "odir_classes_df = pd.DataFrame(columns=['img_name', 'class_index'])  \n",
    "\n",
    "new_row = 0\n",
    "for row in range(len(odir_table_df)):\n",
    "    eye_diseases = odir_table_df.iloc[row, 1:9].astype('int8')\n",
    "    for disease_index in range(8):\n",
    "        if (eye_diseases.iloc[disease_index] == 1):\n",
    "            odir_classes_df.loc[new_row, 'class_index'] = disease_index\n",
    "            odir_classes_df.loc[new_row, 'img_name'] = odir_table_df.loc[row, 'img_name']\n",
    "            new_row += 1\n",
    "                \n",
    "odir_classes_df.to_csv('odir_classes.csv')\n",
    "odir_classes_df"
   ]
  }
 ],
 "metadata": {
  "kernelspec": {
   "display_name": "Python 3",
   "language": "python",
   "name": "python3"
  },
  "language_info": {
   "codemirror_mode": {
    "name": "ipython",
    "version": 3
   },
   "file_extension": ".py",
   "mimetype": "text/x-python",
   "name": "python",
   "nbconvert_exporter": "python",
   "pygments_lexer": "ipython3",
   "version": "3.7.1"
  }
 },
 "nbformat": 4,
 "nbformat_minor": 4
}
