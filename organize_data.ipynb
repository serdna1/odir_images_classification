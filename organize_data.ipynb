{
 "cells": [
  {
   "cell_type": "code",
   "execution_count": 43,
   "metadata": {},
   "outputs": [],
   "source": [
    "import pandas as pd\n",
    "import numpy as np\n",
    "import os, shutil\n",
    "from sklearn.model_selection import train_test_split  "
   ]
  },
  {
   "cell_type": "code",
   "execution_count": 44,
   "metadata": {},
   "outputs": [],
   "source": [
    "cat_data_dir = 'data/cat_data'\n",
    "\n",
    "if not os.path.exists(cat_data_dir):\n",
    "    os.mkdir(cat_data_dir)\n",
    "    print('Created directory: ', cat_data_dir)"
   ]
  },
  {
   "cell_type": "code",
   "execution_count": 45,
   "metadata": {},
   "outputs": [],
   "source": [
    "categories = ['N', 'D', 'G', 'C', 'A', 'H', 'M', 'O']\n",
    "\n",
    "for category in categories:\n",
    "    category_dir = os.path.join(cat_data_dir, category)\n",
    "    if not os.path.exists(category_dir):\n",
    "        os.mkdir(category_dir)\n",
    "        print('Created directory: ', category_dir)"
   ]
  },
  {
   "cell_type": "code",
   "execution_count": 46,
   "metadata": {},
   "outputs": [],
   "source": [
    "original_data_dir = 'data/ODIR-5K_Training_Images/ODIR-5K_Training_Dataset'\n",
    "\n",
    "odir_df = pd.read_csv('odir_classes.csv')\n",
    "\n",
    "for row in range(len(odir_df)):\n",
    "    img_name = odir_df.loc[row, 'img_name']\n",
    "    label = odir_df.loc[row, 'label']\n",
    "    source = os.path.join(original_data_dir, img_name)\n",
    "    destination = os.path.join(cat_data_dir, categories[label], img_name)\n",
    "    shutil.copyfile(source, destination)"
   ]
  },
  {
   "cell_type": "code",
   "execution_count": 47,
   "metadata": {},
   "outputs": [],
   "source": [
    "data_dir = 'data/odir_data'\n",
    "\n",
    "if not os.path.exists(data_dir):\n",
    "        os.mkdir(data_dir)\n",
    "        print('Created directory: ', data_dir)\n",
    "\n",
    "for phase in ['train', 'val']:\n",
    "    phase_dir = os.path.join(data_dir, phase)\n",
    "    \n",
    "    if not os.path.exists(phase_dir):\n",
    "        os.mkdir(phase_dir)\n",
    "        print('Created directory: ', phase_dir)\n",
    "    \n",
    "    for category in categories:\n",
    "        category_dir = os.path.join(phase_dir, category)\n",
    "        if not os.path.exists(category_dir):\n",
    "            os.mkdir(category_dir)\n",
    "            print('Created directory: ', category_dir)"
   ]
  },
  {
   "cell_type": "code",
   "execution_count": 51,
   "metadata": {},
   "outputs": [],
   "source": [
    "for cat in categories:\n",
    "    images_cat = np.array(os.listdir(os.path.join(cat_data_dir,cat)))\n",
    "    images_cat_train, images_cat_val = train_test_split(images_cat, test_size=0.25, random_state=42)\n",
    "    images_cat_dict = dict()\n",
    "    images_cat_dict['train'] = images_cat_train\n",
    "    images_cat_dict['val'] = images_cat_val\n",
    "    for phase in ['train', 'val']:\n",
    "        for fname in images_cat_dict[phase]:\n",
    "            source = os.path.join(cat_data_dir, cat, fname)\n",
    "            destination = os.path.join(data_dir, phase, cat, fname)\n",
    "            shutil.copyfile(source, destination)"
   ]
  }
 ],
 "metadata": {
  "kernelspec": {
   "display_name": "Python 3",
   "language": "python",
   "name": "python3"
  },
  "language_info": {
   "codemirror_mode": {
    "name": "ipython",
    "version": 3
   },
   "file_extension": ".py",
   "mimetype": "text/x-python",
   "name": "python",
   "nbconvert_exporter": "python",
   "pygments_lexer": "ipython3",
   "version": "3.7.1"
  }
 },
 "nbformat": 4,
 "nbformat_minor": 4
}
